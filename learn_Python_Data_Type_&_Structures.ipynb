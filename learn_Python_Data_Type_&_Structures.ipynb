{
  "nbformat": 4,
  "nbformat_minor": 0,
  "metadata": {
    "colab": {
      "provenance": [],
      "include_colab_link": true
    },
    "kernelspec": {
      "name": "python3",
      "display_name": "Python 3"
    },
    "language_info": {
      "name": "python"
    }
  },
  "cells": [
    {
      "cell_type": "markdown",
      "metadata": {
        "id": "view-in-github",
        "colab_type": "text"
      },
      "source": [
        "<a href=\"https://colab.research.google.com/github/harisariefkamis/Final-Project-DAB14/blob/main/learn_Python_Data_Type_%26_Structures.ipynb\" target=\"_parent\"><img src=\"https://colab.research.google.com/assets/colab-badge.svg\" alt=\"Open In Colab\"/></a>"
      ]
    },
    {
      "cell_type": "code",
      "source": [
        "def luas_persegi(panjang, lebar):\n",
        "  luas = panjang * lebar\n",
        "  return luas\n",
        "\n",
        "print(luas_persegi(20, 10))"
      ],
      "metadata": {
        "colab": {
          "base_uri": "https://localhost:8080/"
        },
        "id": "GpOdYXA1IwiB",
        "outputId": "31a948ed-5fc3-4932-c10b-ecec8e223050"
      },
      "execution_count": null,
      "outputs": [
        {
          "output_type": "stream",
          "name": "stdout",
          "text": [
            "200\n"
          ]
        }
      ]
    },
    {
      "cell_type": "code",
      "source": [
        "luas_persegi = lambda panjang, lebar: panjang*lebar\n",
        "luas_segitiga = lambda alas, tinggi: alas*tinggi/2"
      ],
      "metadata": {
        "colab": {
          "base_uri": "https://localhost:8080/"
        },
        "id": "BlqNetbIJTyP",
        "outputId": "aaf179be-6d2a-42e1-e34c-57d84bd16b67"
      },
      "execution_count": null,
      "outputs": [
        {
          "output_type": "execute_result",
          "data": {
            "text/plain": [
              "200"
            ]
          },
          "metadata": {},
          "execution_count": 17
        }
      ]
    },
    {
      "cell_type": "markdown",
      "source": [
        "# List"
      ],
      "metadata": {
        "id": "gGcEDP_A26G_"
      }
    },
    {
      "cell_type": "markdown",
      "source": [
        "## Create List"
      ],
      "metadata": {
        "id": "42Yg7GG3pCTG"
      }
    },
    {
      "cell_type": "code",
      "execution_count": null,
      "metadata": {
        "colab": {
          "base_uri": "https://localhost:8080/"
        },
        "id": "nmsvZ2sT2rwe",
        "outputId": "b87e5c6b-ffcb-47d1-bf68-8539e28afe87"
      },
      "outputs": [
        {
          "output_type": "stream",
          "name": "stdout",
          "text": [
            "[1, 2, 3, 4, 5]\n"
          ]
        }
      ],
      "source": [
        "my_list = [1, 2, 3, 4, 5]\n",
        "print(my_list)"
      ]
    },
    {
      "cell_type": "markdown",
      "source": [
        "## Indexing List"
      ],
      "metadata": {
        "id": "oKACL9JVpEKX"
      }
    },
    {
      "cell_type": "code",
      "source": [
        "first_element = my_list[0]\n",
        "print(first_element)"
      ],
      "metadata": {
        "colab": {
          "base_uri": "https://localhost:8080/"
        },
        "id": "TWO0WMFRSzph",
        "outputId": "63301d6f-bcea-448b-9658-aceaf1849d75"
      },
      "execution_count": null,
      "outputs": [
        {
          "output_type": "stream",
          "name": "stdout",
          "text": [
            "1\n"
          ]
        }
      ]
    },
    {
      "cell_type": "markdown",
      "source": [
        "## Append List"
      ],
      "metadata": {
        "id": "67bgsPpTpLje"
      }
    },
    {
      "cell_type": "code",
      "source": [
        "my_list.append(6)\n",
        "print(my_list)"
      ],
      "metadata": {
        "colab": {
          "base_uri": "https://localhost:8080/"
        },
        "id": "e20bH0P3S39o",
        "outputId": "bdfc2cbc-58f0-4f47-9299-95de87007f7e"
      },
      "execution_count": null,
      "outputs": [
        {
          "output_type": "stream",
          "name": "stdout",
          "text": [
            "[1, 2, 3, 4, 5, 6]\n"
          ]
        }
      ]
    },
    {
      "cell_type": "markdown",
      "source": [
        "## Remove element in list"
      ],
      "metadata": {
        "id": "QHXe8TdOpPMC"
      }
    },
    {
      "cell_type": "code",
      "source": [
        "my_list.remove(3)\n",
        "print(my_list)"
      ],
      "metadata": {
        "colab": {
          "base_uri": "https://localhost:8080/"
        },
        "id": "z8IsRC0NS6G-",
        "outputId": "1b7dae6e-2ead-4ccd-b5d0-5b09d6379fa2"
      },
      "execution_count": null,
      "outputs": [
        {
          "output_type": "stream",
          "name": "stdout",
          "text": [
            "[1, 2, 4, 5, 6]\n"
          ]
        }
      ]
    },
    {
      "cell_type": "markdown",
      "source": [
        "## Slicing list"
      ],
      "metadata": {
        "id": "kAuJEmdcpRTz"
      }
    },
    {
      "cell_type": "code",
      "source": [
        "subset = my_list[1:4]\n",
        "print(subset)"
      ],
      "metadata": {
        "colab": {
          "base_uri": "https://localhost:8080/"
        },
        "id": "oCdXVWs6S86m",
        "outputId": "bb621a94-2f2e-46c8-9d29-57744bbed741"
      },
      "execution_count": null,
      "outputs": [
        {
          "output_type": "stream",
          "name": "stdout",
          "text": [
            "[2, 4, 5]\n"
          ]
        }
      ]
    },
    {
      "cell_type": "markdown",
      "source": [
        "# Set"
      ],
      "metadata": {
        "id": "57ieoBwf27kn"
      }
    },
    {
      "cell_type": "markdown",
      "source": [
        "## Create Set"
      ],
      "metadata": {
        "id": "o20IACy3pUZA"
      }
    },
    {
      "cell_type": "code",
      "source": [
        "my_set = {1, 2, 3, 4, 5}\n",
        "print(my_set)"
      ],
      "metadata": {
        "id": "D4LFQ3dV24r5",
        "colab": {
          "base_uri": "https://localhost:8080/"
        },
        "outputId": "abc19f5b-b062-465a-9f9b-3fb3b37eacb9"
      },
      "execution_count": null,
      "outputs": [
        {
          "output_type": "stream",
          "name": "stdout",
          "text": [
            "{1, 2, 3, 4, 5}\n"
          ]
        }
      ]
    },
    {
      "cell_type": "markdown",
      "source": [
        "## Add element in set"
      ],
      "metadata": {
        "id": "lXf3iZjGpW2n"
      }
    },
    {
      "cell_type": "code",
      "source": [
        "my_set.add(6)\n",
        "print(my_set)"
      ],
      "metadata": {
        "colab": {
          "base_uri": "https://localhost:8080/"
        },
        "id": "UwbkcqDoTFGr",
        "outputId": "3b77f7f3-9135-4de3-c38c-5f4edd88f3ad"
      },
      "execution_count": null,
      "outputs": [
        {
          "output_type": "stream",
          "name": "stdout",
          "text": [
            "{1, 2, 3, 4, 5, 6}\n"
          ]
        }
      ]
    },
    {
      "cell_type": "markdown",
      "source": [
        "## Remove element in set"
      ],
      "metadata": {
        "id": "oewtIyeZpZWM"
      }
    },
    {
      "cell_type": "code",
      "source": [
        "my_set.remove(3)\n",
        "print(my_set)"
      ],
      "metadata": {
        "colab": {
          "base_uri": "https://localhost:8080/"
        },
        "id": "NbmtCl8LTGJS",
        "outputId": "7e3994fe-23bb-4f92-f23b-fc03225dde5a"
      },
      "execution_count": null,
      "outputs": [
        {
          "output_type": "stream",
          "name": "stdout",
          "text": [
            "{1, 2, 4, 5, 6}\n"
          ]
        }
      ]
    },
    {
      "cell_type": "markdown",
      "source": [
        "## Set operations"
      ],
      "metadata": {
        "id": "eOodXyq3pa5r"
      }
    },
    {
      "cell_type": "code",
      "source": [
        "set_union = {1, 2, 3} | {3, 4, 5}\n",
        "print(set_union)"
      ],
      "metadata": {
        "colab": {
          "base_uri": "https://localhost:8080/"
        },
        "id": "iwD7RoX8TG5-",
        "outputId": "161a8250-f32d-405c-ec2c-740ee03989af"
      },
      "execution_count": null,
      "outputs": [
        {
          "output_type": "stream",
          "name": "stdout",
          "text": [
            "{1, 2, 3, 4, 5}\n"
          ]
        }
      ]
    },
    {
      "cell_type": "code",
      "source": [
        "set_intersection = {1, 2, 3} & {3, 4, 5}\n",
        "print(set_intersection)"
      ],
      "metadata": {
        "colab": {
          "base_uri": "https://localhost:8080/"
        },
        "id": "jehYU59xTJAq",
        "outputId": "e3f27f84-757e-45b0-cbe1-c3af514488ae"
      },
      "execution_count": null,
      "outputs": [
        {
          "output_type": "stream",
          "name": "stdout",
          "text": [
            "{3}\n"
          ]
        }
      ]
    },
    {
      "cell_type": "code",
      "source": [
        "set_difference = {1, 2, 3} - {3, 4, 5}\n",
        "print(set_difference)"
      ],
      "metadata": {
        "colab": {
          "base_uri": "https://localhost:8080/"
        },
        "id": "bG9ndMdGTKJl",
        "outputId": "34bac24d-1cf2-42cc-b706-bf30aa72a827"
      },
      "execution_count": null,
      "outputs": [
        {
          "output_type": "stream",
          "name": "stdout",
          "text": [
            "{1, 2}\n"
          ]
        }
      ]
    },
    {
      "cell_type": "code",
      "source": [
        "symmetric_difference = {1, 2, 3} ^ {3, 4, 5}\n",
        "print(symmetric_difference)"
      ],
      "metadata": {
        "colab": {
          "base_uri": "https://localhost:8080/"
        },
        "id": "UG1A3myGf6QM",
        "outputId": "5089b663-4344-4aa1-9b45-7c7515f616dc"
      },
      "execution_count": null,
      "outputs": [
        {
          "output_type": "stream",
          "name": "stdout",
          "text": [
            "{1, 2, 4, 5}\n"
          ]
        }
      ]
    },
    {
      "cell_type": "markdown",
      "source": [
        "# Tuple"
      ],
      "metadata": {
        "id": "u6IASARR3HzL"
      }
    },
    {
      "cell_type": "markdown",
      "source": [
        "## Create tuple"
      ],
      "metadata": {
        "id": "vSy1K2LWpjWd"
      }
    },
    {
      "cell_type": "code",
      "source": [
        "my_tuple = (10, 20, 30, 40, 50)\n",
        "print(my_tuple)"
      ],
      "metadata": {
        "id": "czOF2T542-dO",
        "colab": {
          "base_uri": "https://localhost:8080/"
        },
        "outputId": "eef3caa6-3413-4a61-beef-6ddc919fba0a"
      },
      "execution_count": null,
      "outputs": [
        {
          "output_type": "stream",
          "name": "stdout",
          "text": [
            "(10, 20, 30, 40, 50)\n"
          ]
        }
      ]
    },
    {
      "cell_type": "markdown",
      "source": [
        "## Indexing Tuple"
      ],
      "metadata": {
        "id": "NcmCh0tbplI-"
      }
    },
    {
      "cell_type": "code",
      "source": [
        "value = my_tuple[2]\n",
        "print(value)"
      ],
      "metadata": {
        "colab": {
          "base_uri": "https://localhost:8080/"
        },
        "id": "9BOqrbo0TddW",
        "outputId": "9de53357-792e-4820-904c-fd8e78a48ef7"
      },
      "execution_count": null,
      "outputs": [
        {
          "output_type": "stream",
          "name": "stdout",
          "text": [
            "30\n"
          ]
        }
      ]
    },
    {
      "cell_type": "markdown",
      "source": [
        "# Dictionary"
      ],
      "metadata": {
        "id": "yA34bVHJ3eb9"
      }
    },
    {
      "cell_type": "markdown",
      "source": [
        "## Create a dictionary"
      ],
      "metadata": {
        "id": "_xuct1vDpqrY"
      }
    },
    {
      "cell_type": "code",
      "source": [
        "my_dict = {'name': \"John\", \"age\": 25, \"city\": \"New York\"}\n",
        "print(my_dict)"
      ],
      "metadata": {
        "colab": {
          "base_uri": "https://localhost:8080/"
        },
        "id": "NulaCDJG3ImR",
        "outputId": "60523662-d618-4271-a279-ccf7bc21d598"
      },
      "execution_count": null,
      "outputs": [
        {
          "output_type": "stream",
          "name": "stdout",
          "text": [
            "{'name': 'John', 'age': 25, 'city': 'New York'}\n"
          ]
        }
      ]
    },
    {
      "cell_type": "markdown",
      "source": [
        "## Accessing values"
      ],
      "metadata": {
        "id": "Qlj1-8xwpsxm"
      }
    },
    {
      "cell_type": "code",
      "source": [
        "name = my_dict[\"name\"]\n",
        "print(name)"
      ],
      "metadata": {
        "colab": {
          "base_uri": "https://localhost:8080/"
        },
        "id": "K93zypeTTjm7",
        "outputId": "26825b2f-2050-42d0-8a0e-9cef5dd67ea9"
      },
      "execution_count": null,
      "outputs": [
        {
          "output_type": "stream",
          "name": "stdout",
          "text": [
            "John\n"
          ]
        }
      ]
    },
    {
      "cell_type": "markdown",
      "source": [
        "## Adding Key-value"
      ],
      "metadata": {
        "id": "DD-7ribBpwPA"
      }
    },
    {
      "cell_type": "code",
      "source": [
        "my_dict[\"occupation\"] = \"Developer\"\n",
        "print(my_dict)"
      ],
      "metadata": {
        "colab": {
          "base_uri": "https://localhost:8080/"
        },
        "id": "VmzhP0EATku8",
        "outputId": "e2e1bd30-a967-4e5b-cbd8-c4df4257b63a"
      },
      "execution_count": null,
      "outputs": [
        {
          "output_type": "stream",
          "name": "stdout",
          "text": [
            "{'name': 'John', 'age': 25, 'city': 'New York', 'occupation': 'Developer'}\n"
          ]
        }
      ]
    },
    {
      "cell_type": "markdown",
      "source": [
        "## Update value"
      ],
      "metadata": {
        "id": "vzPDQSkkpzsr"
      }
    },
    {
      "cell_type": "code",
      "source": [
        "my_dict[\"city\"] = \"Washington\"\n",
        "print(my_dict)"
      ],
      "metadata": {
        "colab": {
          "base_uri": "https://localhost:8080/"
        },
        "id": "gWN8G8DoUojT",
        "outputId": "4770c461-9b87-4ab6-b2db-e6876c890fb4"
      },
      "execution_count": null,
      "outputs": [
        {
          "output_type": "stream",
          "name": "stdout",
          "text": [
            "{'name': 'John', 'age': 25, 'city': 'Washington', 'occupation': 'Developer'}\n"
          ]
        }
      ]
    },
    {
      "cell_type": "markdown",
      "source": [
        "## Remove key-value"
      ],
      "metadata": {
        "id": "Md9N4_CNp1YZ"
      }
    },
    {
      "cell_type": "code",
      "source": [
        "del my_dict[\"city\"]\n",
        "print(my_dict)"
      ],
      "metadata": {
        "colab": {
          "base_uri": "https://localhost:8080/"
        },
        "id": "evUUuLWLTlyt",
        "outputId": "48ff2c0a-ae62-4b70-9506-669e00a5f7a7"
      },
      "execution_count": null,
      "outputs": [
        {
          "output_type": "stream",
          "name": "stdout",
          "text": [
            "{'name': 'John', 'age': 25, 'occupation': 'Developer'}\n"
          ]
        }
      ]
    },
    {
      "cell_type": "markdown",
      "source": [
        "# Function"
      ],
      "metadata": {
        "id": "7OtLUlfEoIWU"
      }
    },
    {
      "cell_type": "markdown",
      "source": [
        "## Simple Function"
      ],
      "metadata": {
        "id": "hdzT4KoHomoB"
      }
    },
    {
      "cell_type": "code",
      "source": [
        "def add_func(x, y):\n",
        "  z = x+y\n",
        "  return z\n",
        "\n",
        "total = add_func(10, 11)\n",
        "print(total)"
      ],
      "metadata": {
        "colab": {
          "base_uri": "https://localhost:8080/"
        },
        "id": "JtTc3wA4oTYu",
        "outputId": "0825fcd1-bf48-412f-ef7c-1fabfc52d2b4"
      },
      "execution_count": null,
      "outputs": [
        {
          "output_type": "stream",
          "name": "stdout",
          "text": [
            "21\n"
          ]
        }
      ]
    },
    {
      "cell_type": "markdown",
      "source": [
        "## Lambda"
      ],
      "metadata": {
        "id": "x4wP2BmBop62"
      }
    },
    {
      "cell_type": "code",
      "source": [
        "f = lambda x, y: x + y\n",
        "f(2,3)"
      ],
      "metadata": {
        "colab": {
          "base_uri": "https://localhost:8080/"
        },
        "id": "Zr12eLt_ozy1",
        "outputId": "c08798c7-58e7-4fcd-8031-6ed8553c5d04"
      },
      "execution_count": null,
      "outputs": [
        {
          "output_type": "execute_result",
          "data": {
            "text/plain": [
              "5"
            ]
          },
          "metadata": {},
          "execution_count": 61
        }
      ]
    },
    {
      "cell_type": "markdown",
      "source": [
        "# Looping"
      ],
      "metadata": {
        "id": "J9NzENITmWtn"
      }
    },
    {
      "cell_type": "markdown",
      "source": [
        "## Looping List"
      ],
      "metadata": {
        "id": "N6h-pAYZmYGM"
      }
    },
    {
      "cell_type": "code",
      "source": [
        "fruits = [\"apple\", \"banana\", \"cherry\"]\n",
        "for fruit in fruits:\n",
        "  print(fruit)"
      ],
      "metadata": {
        "colab": {
          "base_uri": "https://localhost:8080/"
        },
        "id": "W3CE5QqWmXmS",
        "outputId": "9897d4f1-6f19-422b-a205-b56e925902fc"
      },
      "execution_count": null,
      "outputs": [
        {
          "output_type": "stream",
          "name": "stdout",
          "text": [
            "apple\n",
            "banana\n",
            "cherry\n"
          ]
        }
      ]
    },
    {
      "cell_type": "markdown",
      "source": [
        "## Looping String"
      ],
      "metadata": {
        "id": "05095Iy6mdPg"
      }
    },
    {
      "cell_type": "code",
      "source": [
        "for x in \"banana\":\n",
        "  print(x)"
      ],
      "metadata": {
        "colab": {
          "base_uri": "https://localhost:8080/"
        },
        "id": "wTlOpzzGmZmg",
        "outputId": "646cb502-7b45-498e-cc67-bd55828a28c3"
      },
      "execution_count": null,
      "outputs": [
        {
          "output_type": "stream",
          "name": "stdout",
          "text": [
            "b\n",
            "a\n",
            "n\n",
            "a\n",
            "n\n",
            "a\n"
          ]
        }
      ]
    },
    {
      "cell_type": "markdown",
      "source": [
        "## Looping Range"
      ],
      "metadata": {
        "id": "o4ab8kICmt-b"
      }
    },
    {
      "cell_type": "code",
      "source": [
        "range(6)"
      ],
      "metadata": {
        "colab": {
          "base_uri": "https://localhost:8080/"
        },
        "id": "H5xcFFf1SkVA",
        "outputId": "6b110afe-63e7-4f8a-e706-e166cfd74ccd"
      },
      "execution_count": null,
      "outputs": [
        {
          "output_type": "execute_result",
          "data": {
            "text/plain": [
              "range(0, 6)"
            ]
          },
          "metadata": {},
          "execution_count": 21
        }
      ]
    },
    {
      "cell_type": "code",
      "source": [
        "for x in range(10000):\n",
        "  print(\"hello world\")"
      ],
      "metadata": {
        "id": "KHYk0LI1mvxF"
      },
      "execution_count": null,
      "outputs": []
    },
    {
      "cell_type": "code",
      "source": [
        "# @title While\n",
        "i = 1\n",
        "while 1 < 5:\n",
        "  print(i)\n",
        "  break"
      ],
      "metadata": {
        "colab": {
          "base_uri": "https://localhost:8080/"
        },
        "id": "oI7jNa2xTgSk",
        "outputId": "326b3f07-333e-43b3-f173-79593667f2b3"
      },
      "execution_count": 2,
      "outputs": [
        {
          "output_type": "stream",
          "name": "stdout",
          "text": [
            "1\n"
          ]
        }
      ]
    },
    {
      "cell_type": "markdown",
      "source": [
        "## Break"
      ],
      "metadata": {
        "id": "DE003z8OmjbD"
      }
    },
    {
      "cell_type": "code",
      "source": [
        "fruits = [\"apple\", \"banana\", \"cherry\"]\n",
        "for x in fruits:\n",
        "  if x == \"banana\": #ini adalah batasan looping\n",
        "    break #untuk menghentikan looping\n",
        "  print(x)"
      ],
      "metadata": {
        "colab": {
          "base_uri": "https://localhost:8080/"
        },
        "id": "p9L4OaJNmgJx",
        "outputId": "df6a0846-bd75-4adf-d0e1-ed282dd81ac6"
      },
      "execution_count": null,
      "outputs": [
        {
          "output_type": "stream",
          "name": "stdout",
          "text": [
            "apple\n"
          ]
        }
      ]
    },
    {
      "cell_type": "markdown",
      "source": [
        "## Continue"
      ],
      "metadata": {
        "id": "m0RjKZYRmo2Z"
      }
    },
    {
      "cell_type": "code",
      "source": [
        "fruits = [\"apple\", \"banana\", \"cherry\"]\n",
        "for x in fruits:\n",
        "  if x == \"banana\":\n",
        "    continue #skiip to looping\n",
        "  print(x)"
      ],
      "metadata": {
        "colab": {
          "base_uri": "https://localhost:8080/"
        },
        "id": "tmY0AwKEmmv7",
        "outputId": "6a6d387a-da8a-4276-c6c8-2b0985ac0fdb"
      },
      "execution_count": null,
      "outputs": [
        {
          "output_type": "stream",
          "name": "stdout",
          "text": [
            "apple\n",
            "cherry\n"
          ]
        }
      ]
    },
    {
      "cell_type": "markdown",
      "source": [
        "## Looping with Conditional"
      ],
      "metadata": {
        "id": "WuMm82X5n5KJ"
      }
    },
    {
      "cell_type": "code",
      "source": [
        "for x in range(10,30):\n",
        "  if x%2==0 and x%5==0:\n",
        "    print(f\"{x} adalah bilangan  yang habis di bagi 2 dan 5\")\n",
        "  elif x%3==0 and x%2 == 1:\n",
        "    print(f\"{x} adalah bilangan habis di bagi 3 dan {x} adalah bilangan ganjil\")\n",
        "  elif x%7==0:\n",
        "    print(f\"{x} adalah bilangan kelipatan 7\")\n",
        "  else:\n",
        "    print(x)"
      ],
      "metadata": {
        "colab": {
          "base_uri": "https://localhost:8080/"
        },
        "id": "jnwkRu3_m2AP",
        "outputId": "0d890f93-c74d-405f-d6f5-86d160e9f07f"
      },
      "execution_count": 3,
      "outputs": [
        {
          "output_type": "stream",
          "name": "stdout",
          "text": [
            "10 adalah bilangan  yang habis di bagi 2 dan 5\n",
            "11\n",
            "12\n",
            "13\n",
            "14 adalah bilangan kelipatan 7\n",
            "15 adalah bilangan habis di bagi 3 dan 15 adalah bilangan ganjil\n",
            "16\n",
            "17\n",
            "18\n",
            "19\n",
            "20 adalah bilangan  yang habis di bagi 2 dan 5\n",
            "21 adalah bilangan habis di bagi 3 dan 21 adalah bilangan ganjil\n",
            "22\n",
            "23\n",
            "24\n",
            "25\n",
            "26\n",
            "27 adalah bilangan habis di bagi 3 dan 27 adalah bilangan ganjil\n",
            "28 adalah bilangan kelipatan 7\n",
            "29\n"
          ]
        }
      ]
    },
    {
      "cell_type": "markdown",
      "source": [
        "## Nested Loop"
      ],
      "metadata": {
        "id": "VE2C-XAjmzV1"
      }
    },
    {
      "cell_type": "code",
      "source": [
        "adj = [\"sweet\", \"shiny\", \"delicious\"]\n",
        "fruits = [\"avocado\", \"apple\", \"orange\"]\n",
        "\n",
        "for x in adj:\n",
        "  for y in fruits:\n",
        "    print(x, y)"
      ],
      "metadata": {
        "colab": {
          "base_uri": "https://localhost:8080/"
        },
        "id": "Gy3ZpDoBmp0x",
        "outputId": "6cc3caf8-e9ee-4384-f246-e9fcf8316151"
      },
      "execution_count": null,
      "outputs": [
        {
          "output_type": "stream",
          "name": "stdout",
          "text": [
            "sweet avocado\n",
            "sweet apple\n",
            "sweet orange\n",
            "shiny avocado\n",
            "shiny apple\n",
            "shiny orange\n",
            "delicious avocado\n",
            "delicious apple\n",
            "delicious orange\n"
          ]
        }
      ]
    }
  ]
}