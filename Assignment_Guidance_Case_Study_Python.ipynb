{
  "nbformat": 4,
  "nbformat_minor": 0,
  "metadata": {
    "colab": {
      "provenance": [],
      "toc_visible": true,
      "authorship_tag": "ABX9TyPGUwUEYK0YcI+TeZLslZKw",
      "include_colab_link": true
    },
    "kernelspec": {
      "name": "python3",
      "display_name": "Python 3"
    },
    "language_info": {
      "name": "python"
    }
  },
  "cells": [
    {
      "cell_type": "markdown",
      "metadata": {
        "id": "view-in-github",
        "colab_type": "text"
      },
      "source": [
        "<a href=\"https://colab.research.google.com/github/harisariefkamis/Final-Project-DAB14/blob/main/Assignment_Guidance_Case_Study_Python.ipynb\" target=\"_parent\"><img src=\"https://colab.research.google.com/assets/colab-badge.svg\" alt=\"Open In Colab\"/></a>"
      ]
    },
    {
      "cell_type": "markdown",
      "source": [
        "#Assignment Guidance: Case Study Python\n",
        "Data Science Bootcamp\n",
        "\n",
        "##Introduction to Python\n",
        "##Data type & structure\n",
        "\n",
        "*Detail Assignment:*\n",
        "\n",
        "1. Berikut adalah sebuah list: my_list = [3, 7, 9, 12, 5]. Bagaimana cara mengakses elemen ke-3 dan ke-4 dari list tersebut?\n",
        "2. Buatlah sebuah fungsi Python yang menerima input berupa string dan mengembalikan True jika string tersebut adalah palindrom (bacaannya sama jika dibalik, contoh ada, rotator, radar), dan False jika tidak.\n",
        "3. Buatlah sebuah fungsi Python yang menerima input berupa list bilangan bulat (contoh: [1, 24, 333]) dan mengembalikan list (return list) yang hanya berisi bilangan ganjil dari list input tersebut.\n",
        "4. Buatlah sebuah fungsi Python yang menerima input berupa list string (contoh list string: [“abcdef”, “ghi”, “jklm”] dan mengembalikan list (return list) yang hanya berisi string yang panjangnya lebih dari 5 karakter.\n"
      ],
      "metadata": {
        "id": "lapaViVGORk8"
      }
    },
    {
      "cell_type": "code",
      "execution_count": 109,
      "metadata": {
        "colab": {
          "base_uri": "https://localhost:8080/"
        },
        "id": "fMx1Php9OE8W",
        "outputId": "280c4cbb-563a-46ef-fbbe-398f4563b543"
      },
      "outputs": [
        {
          "output_type": "stream",
          "name": "stdout",
          "text": [
            "['9', '12']\n"
          ]
        }
      ],
      "source": [
        "# @title `No.1`\n",
        "# Menampilkan list([9,12,])\n",
        "# my_list --->Nama Variabel harus bermakna\n",
        "my_list = [3,7,9,12,5] # membuat dan menginput elemen list\n",
        "\n",
        "print(['9','12']) # menampilkan hasil output list\n"
      ]
    },
    {
      "cell_type": "code",
      "execution_count": 110,
      "metadata": {
        "id": "Ab4e8oq_RgIK",
        "colab": {
          "base_uri": "https://localhost:8080/"
        },
        "outputId": "f8564ef4-fdd9-4f6d-b85e-cf635e44c4af"
      },
      "outputs": [
        {
          "output_type": "stream",
          "name": "stdout",
          "text": [
            "True\n",
            "True\n"
          ]
        }
      ],
      "source": [
        "# @title `No.2`\n",
        "def my_case(string):\n",
        "\n",
        "# Mengembalikan True jika string adalah palindrom, dan False jika tidak.\n",
        "# Args:\n",
        "#   string: String yang ingin diuji.\n",
        "# Returns:\n",
        "# True jika string adalah palindrom, False jika tidak.\n",
        "\n",
        "  # Mengubah string menjadi lowercase dan menghilangkan spasi.\n",
        "    string = string.lower().replace(\"rotator \", \"radar\")\n",
        "\n",
        "  # Membalik string.\n",
        "    reversed_string = string[::-1]\n",
        "\n",
        "  # Mengembalikan True jika string sama dengan string yang dibalik.\n",
        "    return string == reversed_string\n",
        "\n",
        "# Contoh penggunaan is_palindrome\n",
        "string = \"rotator\"\n",
        "is_palindrome = my_case(string)\n",
        "print(is_palindrome)\n",
        "\n",
        "string = \"radar\"\n",
        "is_palindrome = my_case(string)\n",
        "print(is_palindrome)\n"
      ]
    },
    {
      "cell_type": "code",
      "source": [
        "# @title `is_Palindrome`\n",
        "string = \"rotator\"\n",
        "is_palindrome = my_case(string)\n",
        "print(is_palindrome)\n",
        "\n",
        "string = \"radar\"\n",
        "is_palindrome = my_case(string)\n",
        "print(is_palindrome)\n"
      ],
      "metadata": {
        "colab": {
          "base_uri": "https://localhost:8080/"
        },
        "outputId": "2fed9c30-2e24-4931-b001-45a6428c7e77",
        "id": "4lQXFaVdLLcJ"
      },
      "execution_count": 111,
      "outputs": [
        {
          "output_type": "stream",
          "name": "stdout",
          "text": [
            "True\n",
            "True\n"
          ]
        }
      ]
    },
    {
      "cell_type": "code",
      "execution_count": 112,
      "metadata": {
        "colab": {
          "base_uri": "https://localhost:8080/"
        },
        "outputId": "e915316e-be7a-4081-cbeb-96106d8c9e10",
        "id": "XWVieA_WRiZA"
      },
      "outputs": [
        {
          "output_type": "stream",
          "name": "stdout",
          "text": [
            "Tuliskan Bilangan Bulat:333\n",
            "333 adalah bilangan ganjil.\n"
          ]
        }
      ],
      "source": [
        "# @title `No.3`\n",
        "#Menampilkan return list dari bilangan bulat ke bilangan ganjil\n",
        "\n",
        "my_case = int(input(\"Tuliskan Bilangan Bulat:\"))\n",
        "\n",
        "if  my_case % 2 == 0:\n",
        "    print (f\"{my_case} adalah bilangan ganjil.\") # menanpilkan bilangan bulat\n",
        "    bilangan_ganjil = (my_case)\n",
        "    print (f\" {my_case} adalah bilangan ganjil:{bilangan_ganjil}\")\n",
        "else:\n",
        "    print (f\"{my_case} adalah bilangan ganjil.\") # menanpilkan bilangan ganjil"
      ]
    },
    {
      "cell_type": "code",
      "source": [
        "# @title `No.4`\n",
        "def df_karakter(list_string):\n",
        "# Mengembalikan list yang hanya berisi string yang panjangnya lebih dari 5 karakter.\n",
        "# Args:\n",
        "#     list_string: List string yang ingin diproses.\n",
        "# Returns:\n",
        "#     List yang berisi string yang panjangnya lebih dari 5 karakter.\n",
        "\n",
        "  long_strings = []\n",
        "  for string in list_string:\n",
        "    if len(string) > 5:\n",
        "      long_strings.append(string)\n",
        "\n",
        "  return long_strings\n",
        "\n",
        "# contoh_list string:\n",
        "list_string = [\"abcdef\", \"ghi\", \"jklm\",]\n",
        "long_strings = df_karakter(list_string)\n",
        "print(long_strings)\n"
      ],
      "metadata": {
        "colab": {
          "base_uri": "https://localhost:8080/"
        },
        "id": "FqYp9ysfwBFO",
        "outputId": "cc4a2c17-0d35-44c6-b3a2-2c67a630ded7"
      },
      "execution_count": 113,
      "outputs": [
        {
          "output_type": "stream",
          "name": "stdout",
          "text": [
            "['abcdef']\n"
          ]
        }
      ]
    },
    {
      "cell_type": "markdown",
      "source": [
        "##thank you...!!!"
      ],
      "metadata": {
        "id": "qqfIayLrPs0f"
      }
    }
  ]
}